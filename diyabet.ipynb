{
 "cells": [
  {
   "cell_type": "markdown",
   "id": "eba48642",
   "metadata": {
    "_cell_guid": "b1076dfc-b9ad-4769-8c92-a6c4dae69d19",
    "_uuid": "8f2839f25d086af736a60e9eeb907d3b93b6e0e5",
    "execution": {
     "iopub.execute_input": "2024-11-16T23:40:30.231756Z",
     "iopub.status.busy": "2024-11-16T23:40:30.231179Z",
     "iopub.status.idle": "2024-11-16T23:40:30.257609Z",
     "shell.execute_reply": "2024-11-16T23:40:30.256235Z",
     "shell.execute_reply.started": "2024-11-16T23:40:30.231685Z"
    },
    "papermill": {
     "duration": 0.01229,
     "end_time": "2024-11-17T19:13:14.802406",
     "exception": false,
     "start_time": "2024-11-17T19:13:14.790116",
     "status": "completed"
    },
    "tags": []
   },
   "source": [
    "# Diyabet Tahmini"
   ]
  },
  {
   "cell_type": "markdown",
   "id": "22b1589a",
   "metadata": {
    "execution": {
     "iopub.execute_input": "2024-11-16T23:42:11.776726Z",
     "iopub.status.busy": "2024-11-16T23:42:11.775750Z",
     "iopub.status.idle": "2024-11-16T23:42:11.790602Z",
     "shell.execute_reply": "2024-11-16T23:42:11.788490Z",
     "shell.execute_reply.started": "2024-11-16T23:42:11.776677Z"
    },
    "papermill": {
     "duration": 0.01112,
     "end_time": "2024-11-17T19:13:14.825212",
     "exception": false,
     "start_time": "2024-11-17T19:13:14.814092",
     "status": "completed"
    },
    "tags": []
   },
   "source": [
    "## 1. Kütüphanelerin Yüklenmesi"
   ]
  },
  {
   "cell_type": "code",
   "execution_count": 1,
   "id": "13c856e8",
   "metadata": {
    "execution": {
     "iopub.execute_input": "2024-11-17T19:13:14.851984Z",
     "iopub.status.busy": "2024-11-17T19:13:14.850873Z",
     "iopub.status.idle": "2024-11-17T19:13:18.062895Z",
     "shell.execute_reply": "2024-11-17T19:13:18.061515Z"
    },
    "papermill": {
     "duration": 3.22933,
     "end_time": "2024-11-17T19:13:18.066064",
     "exception": false,
     "start_time": "2024-11-17T19:13:14.836734",
     "status": "completed"
    },
    "tags": []
   },
   "outputs": [],
   "source": [
    "import pandas as pd\n",
    "import matplotlib.pyplot as plt\n",
    "import seaborn as sns\n",
    "import numpy as np\n",
    "import warnings\n",
    "warnings.filterwarnings(\"ignore\", category=FutureWarning)"
   ]
  },
  {
   "cell_type": "code",
   "execution_count": 2,
   "id": "e57d0270",
   "metadata": {
    "execution": {
     "iopub.execute_input": "2024-11-17T19:13:18.093636Z",
     "iopub.status.busy": "2024-11-17T19:13:18.092122Z",
     "iopub.status.idle": "2024-11-17T19:13:18.123831Z",
     "shell.execute_reply": "2024-11-17T19:13:18.122797Z"
    },
    "papermill": {
     "duration": 0.04825,
     "end_time": "2024-11-17T19:13:18.126828",
     "exception": false,
     "start_time": "2024-11-17T19:13:18.078578",
     "status": "completed"
    },
    "tags": []
   },
   "outputs": [],
   "source": [
    "df=pd.read_csv(\"/kaggle/input/diabetes-dataset-for-beginners/diabetes.csv\")"
   ]
  },
  {
   "cell_type": "code",
   "execution_count": 3,
   "id": "f1803350",
   "metadata": {
    "execution": {
     "iopub.execute_input": "2024-11-17T19:13:18.153277Z",
     "iopub.status.busy": "2024-11-17T19:13:18.152499Z",
     "iopub.status.idle": "2024-11-17T19:13:18.189235Z",
     "shell.execute_reply": "2024-11-17T19:13:18.188041Z"
    },
    "papermill": {
     "duration": 0.052216,
     "end_time": "2024-11-17T19:13:18.191808",
     "exception": false,
     "start_time": "2024-11-17T19:13:18.139592",
     "status": "completed"
    },
    "tags": []
   },
   "outputs": [
    {
     "data": {
      "text/html": [
       "<div>\n",
       "<style scoped>\n",
       "    .dataframe tbody tr th:only-of-type {\n",
       "        vertical-align: middle;\n",
       "    }\n",
       "\n",
       "    .dataframe tbody tr th {\n",
       "        vertical-align: top;\n",
       "    }\n",
       "\n",
       "    .dataframe thead th {\n",
       "        text-align: right;\n",
       "    }\n",
       "</style>\n",
       "<table border=\"1\" class=\"dataframe\">\n",
       "  <thead>\n",
       "    <tr style=\"text-align: right;\">\n",
       "      <th></th>\n",
       "      <th>Pregnancies</th>\n",
       "      <th>Glucose</th>\n",
       "      <th>BloodPressure</th>\n",
       "      <th>SkinThickness</th>\n",
       "      <th>Insulin</th>\n",
       "      <th>BMI</th>\n",
       "      <th>DiabetesPedigreeFunction</th>\n",
       "      <th>Age</th>\n",
       "      <th>Outcome</th>\n",
       "    </tr>\n",
       "  </thead>\n",
       "  <tbody>\n",
       "    <tr>\n",
       "      <th>0</th>\n",
       "      <td>6</td>\n",
       "      <td>148</td>\n",
       "      <td>72</td>\n",
       "      <td>35</td>\n",
       "      <td>0</td>\n",
       "      <td>33.6</td>\n",
       "      <td>0.627</td>\n",
       "      <td>50</td>\n",
       "      <td>1</td>\n",
       "    </tr>\n",
       "    <tr>\n",
       "      <th>1</th>\n",
       "      <td>1</td>\n",
       "      <td>85</td>\n",
       "      <td>66</td>\n",
       "      <td>29</td>\n",
       "      <td>0</td>\n",
       "      <td>26.6</td>\n",
       "      <td>0.351</td>\n",
       "      <td>31</td>\n",
       "      <td>0</td>\n",
       "    </tr>\n",
       "    <tr>\n",
       "      <th>2</th>\n",
       "      <td>8</td>\n",
       "      <td>183</td>\n",
       "      <td>64</td>\n",
       "      <td>0</td>\n",
       "      <td>0</td>\n",
       "      <td>23.3</td>\n",
       "      <td>0.672</td>\n",
       "      <td>32</td>\n",
       "      <td>1</td>\n",
       "    </tr>\n",
       "    <tr>\n",
       "      <th>3</th>\n",
       "      <td>1</td>\n",
       "      <td>89</td>\n",
       "      <td>66</td>\n",
       "      <td>23</td>\n",
       "      <td>94</td>\n",
       "      <td>28.1</td>\n",
       "      <td>0.167</td>\n",
       "      <td>21</td>\n",
       "      <td>0</td>\n",
       "    </tr>\n",
       "    <tr>\n",
       "      <th>4</th>\n",
       "      <td>0</td>\n",
       "      <td>137</td>\n",
       "      <td>40</td>\n",
       "      <td>35</td>\n",
       "      <td>168</td>\n",
       "      <td>43.1</td>\n",
       "      <td>2.288</td>\n",
       "      <td>33</td>\n",
       "      <td>1</td>\n",
       "    </tr>\n",
       "    <tr>\n",
       "      <th>...</th>\n",
       "      <td>...</td>\n",
       "      <td>...</td>\n",
       "      <td>...</td>\n",
       "      <td>...</td>\n",
       "      <td>...</td>\n",
       "      <td>...</td>\n",
       "      <td>...</td>\n",
       "      <td>...</td>\n",
       "      <td>...</td>\n",
       "    </tr>\n",
       "    <tr>\n",
       "      <th>763</th>\n",
       "      <td>10</td>\n",
       "      <td>101</td>\n",
       "      <td>76</td>\n",
       "      <td>48</td>\n",
       "      <td>180</td>\n",
       "      <td>32.9</td>\n",
       "      <td>0.171</td>\n",
       "      <td>63</td>\n",
       "      <td>0</td>\n",
       "    </tr>\n",
       "    <tr>\n",
       "      <th>764</th>\n",
       "      <td>2</td>\n",
       "      <td>122</td>\n",
       "      <td>70</td>\n",
       "      <td>27</td>\n",
       "      <td>0</td>\n",
       "      <td>36.8</td>\n",
       "      <td>0.340</td>\n",
       "      <td>27</td>\n",
       "      <td>0</td>\n",
       "    </tr>\n",
       "    <tr>\n",
       "      <th>765</th>\n",
       "      <td>5</td>\n",
       "      <td>121</td>\n",
       "      <td>72</td>\n",
       "      <td>23</td>\n",
       "      <td>112</td>\n",
       "      <td>26.2</td>\n",
       "      <td>0.245</td>\n",
       "      <td>30</td>\n",
       "      <td>0</td>\n",
       "    </tr>\n",
       "    <tr>\n",
       "      <th>766</th>\n",
       "      <td>1</td>\n",
       "      <td>126</td>\n",
       "      <td>60</td>\n",
       "      <td>0</td>\n",
       "      <td>0</td>\n",
       "      <td>30.1</td>\n",
       "      <td>0.349</td>\n",
       "      <td>47</td>\n",
       "      <td>1</td>\n",
       "    </tr>\n",
       "    <tr>\n",
       "      <th>767</th>\n",
       "      <td>1</td>\n",
       "      <td>93</td>\n",
       "      <td>70</td>\n",
       "      <td>31</td>\n",
       "      <td>0</td>\n",
       "      <td>30.4</td>\n",
       "      <td>0.315</td>\n",
       "      <td>23</td>\n",
       "      <td>0</td>\n",
       "    </tr>\n",
       "  </tbody>\n",
       "</table>\n",
       "<p>768 rows × 9 columns</p>\n",
       "</div>"
      ],
      "text/plain": [
       "     Pregnancies  Glucose  BloodPressure  SkinThickness  Insulin   BMI  \\\n",
       "0              6      148             72             35        0  33.6   \n",
       "1              1       85             66             29        0  26.6   \n",
       "2              8      183             64              0        0  23.3   \n",
       "3              1       89             66             23       94  28.1   \n",
       "4              0      137             40             35      168  43.1   \n",
       "..           ...      ...            ...            ...      ...   ...   \n",
       "763           10      101             76             48      180  32.9   \n",
       "764            2      122             70             27        0  36.8   \n",
       "765            5      121             72             23      112  26.2   \n",
       "766            1      126             60              0        0  30.1   \n",
       "767            1       93             70             31        0  30.4   \n",
       "\n",
       "     DiabetesPedigreeFunction  Age  Outcome  \n",
       "0                       0.627   50        1  \n",
       "1                       0.351   31        0  \n",
       "2                       0.672   32        1  \n",
       "3                       0.167   21        0  \n",
       "4                       2.288   33        1  \n",
       "..                        ...  ...      ...  \n",
       "763                     0.171   63        0  \n",
       "764                     0.340   27        0  \n",
       "765                     0.245   30        0  \n",
       "766                     0.349   47        1  \n",
       "767                     0.315   23        0  \n",
       "\n",
       "[768 rows x 9 columns]"
      ]
     },
     "execution_count": 3,
     "metadata": {},
     "output_type": "execute_result"
    }
   ],
   "source": [
    "df"
   ]
  },
  {
   "cell_type": "code",
   "execution_count": 4,
   "id": "cc8ea50a",
   "metadata": {
    "execution": {
     "iopub.execute_input": "2024-11-17T19:13:18.218189Z",
     "iopub.status.busy": "2024-11-17T19:13:18.217084Z",
     "iopub.status.idle": "2024-11-17T19:13:18.230113Z",
     "shell.execute_reply": "2024-11-17T19:13:18.229015Z"
    },
    "papermill": {
     "duration": 0.029015,
     "end_time": "2024-11-17T19:13:18.232872",
     "exception": false,
     "start_time": "2024-11-17T19:13:18.203857",
     "status": "completed"
    },
    "tags": []
   },
   "outputs": [
    {
     "data": {
      "text/plain": [
       "Pregnancies                 0\n",
       "Glucose                     0\n",
       "BloodPressure               0\n",
       "SkinThickness               0\n",
       "Insulin                     0\n",
       "BMI                         0\n",
       "DiabetesPedigreeFunction    0\n",
       "Age                         0\n",
       "Outcome                     0\n",
       "dtype: int64"
      ]
     },
     "execution_count": 4,
     "metadata": {},
     "output_type": "execute_result"
    }
   ],
   "source": [
    "df.isnull().sum()"
   ]
  },
  {
   "cell_type": "markdown",
   "id": "4c349f4a",
   "metadata": {
    "papermill": {
     "duration": 0.012455,
     "end_time": "2024-11-17T19:13:18.257539",
     "exception": false,
     "start_time": "2024-11-17T19:13:18.245084",
     "status": "completed"
    },
    "tags": []
   },
   "source": [
    "## 2.  Veri Ön İşleme"
   ]
  },
  {
   "cell_type": "code",
   "execution_count": 5,
   "id": "452f753b",
   "metadata": {
    "execution": {
     "iopub.execute_input": "2024-11-17T19:13:18.285015Z",
     "iopub.status.busy": "2024-11-17T19:13:18.284010Z",
     "iopub.status.idle": "2024-11-17T19:13:18.289890Z",
     "shell.execute_reply": "2024-11-17T19:13:18.288654Z"
    },
    "papermill": {
     "duration": 0.022137,
     "end_time": "2024-11-17T19:13:18.292516",
     "exception": false,
     "start_time": "2024-11-17T19:13:18.270379",
     "status": "completed"
    },
    "tags": []
   },
   "outputs": [],
   "source": [
    "pd.set_option(\"display.max_columns\",None)"
   ]
  },
  {
   "cell_type": "code",
   "execution_count": 6,
   "id": "1dac9e03",
   "metadata": {
    "execution": {
     "iopub.execute_input": "2024-11-17T19:13:18.318712Z",
     "iopub.status.busy": "2024-11-17T19:13:18.318267Z",
     "iopub.status.idle": "2024-11-17T19:13:18.336138Z",
     "shell.execute_reply": "2024-11-17T19:13:18.334776Z"
    },
    "papermill": {
     "duration": 0.034023,
     "end_time": "2024-11-17T19:13:18.338737",
     "exception": false,
     "start_time": "2024-11-17T19:13:18.304714",
     "status": "completed"
    },
    "tags": []
   },
   "outputs": [
    {
     "data": {
      "text/html": [
       "<div>\n",
       "<style scoped>\n",
       "    .dataframe tbody tr th:only-of-type {\n",
       "        vertical-align: middle;\n",
       "    }\n",
       "\n",
       "    .dataframe tbody tr th {\n",
       "        vertical-align: top;\n",
       "    }\n",
       "\n",
       "    .dataframe thead th {\n",
       "        text-align: right;\n",
       "    }\n",
       "</style>\n",
       "<table border=\"1\" class=\"dataframe\">\n",
       "  <thead>\n",
       "    <tr style=\"text-align: right;\">\n",
       "      <th></th>\n",
       "      <th>Pregnancies</th>\n",
       "      <th>Glucose</th>\n",
       "      <th>BloodPressure</th>\n",
       "      <th>SkinThickness</th>\n",
       "      <th>Insulin</th>\n",
       "      <th>BMI</th>\n",
       "      <th>DiabetesPedigreeFunction</th>\n",
       "      <th>Age</th>\n",
       "      <th>Outcome</th>\n",
       "    </tr>\n",
       "  </thead>\n",
       "  <tbody>\n",
       "    <tr>\n",
       "      <th>0</th>\n",
       "      <td>6</td>\n",
       "      <td>148</td>\n",
       "      <td>72</td>\n",
       "      <td>35</td>\n",
       "      <td>0</td>\n",
       "      <td>33.6</td>\n",
       "      <td>0.627</td>\n",
       "      <td>50</td>\n",
       "      <td>1</td>\n",
       "    </tr>\n",
       "    <tr>\n",
       "      <th>1</th>\n",
       "      <td>1</td>\n",
       "      <td>85</td>\n",
       "      <td>66</td>\n",
       "      <td>29</td>\n",
       "      <td>0</td>\n",
       "      <td>26.6</td>\n",
       "      <td>0.351</td>\n",
       "      <td>31</td>\n",
       "      <td>0</td>\n",
       "    </tr>\n",
       "    <tr>\n",
       "      <th>2</th>\n",
       "      <td>8</td>\n",
       "      <td>183</td>\n",
       "      <td>64</td>\n",
       "      <td>0</td>\n",
       "      <td>0</td>\n",
       "      <td>23.3</td>\n",
       "      <td>0.672</td>\n",
       "      <td>32</td>\n",
       "      <td>1</td>\n",
       "    </tr>\n",
       "    <tr>\n",
       "      <th>3</th>\n",
       "      <td>1</td>\n",
       "      <td>89</td>\n",
       "      <td>66</td>\n",
       "      <td>23</td>\n",
       "      <td>94</td>\n",
       "      <td>28.1</td>\n",
       "      <td>0.167</td>\n",
       "      <td>21</td>\n",
       "      <td>0</td>\n",
       "    </tr>\n",
       "    <tr>\n",
       "      <th>4</th>\n",
       "      <td>0</td>\n",
       "      <td>137</td>\n",
       "      <td>40</td>\n",
       "      <td>35</td>\n",
       "      <td>168</td>\n",
       "      <td>43.1</td>\n",
       "      <td>2.288</td>\n",
       "      <td>33</td>\n",
       "      <td>1</td>\n",
       "    </tr>\n",
       "  </tbody>\n",
       "</table>\n",
       "</div>"
      ],
      "text/plain": [
       "   Pregnancies  Glucose  BloodPressure  SkinThickness  Insulin   BMI  \\\n",
       "0            6      148             72             35        0  33.6   \n",
       "1            1       85             66             29        0  26.6   \n",
       "2            8      183             64              0        0  23.3   \n",
       "3            1       89             66             23       94  28.1   \n",
       "4            0      137             40             35      168  43.1   \n",
       "\n",
       "   DiabetesPedigreeFunction  Age  Outcome  \n",
       "0                     0.627   50        1  \n",
       "1                     0.351   31        0  \n",
       "2                     0.672   32        1  \n",
       "3                     0.167   21        0  \n",
       "4                     2.288   33        1  "
      ]
     },
     "execution_count": 6,
     "metadata": {},
     "output_type": "execute_result"
    }
   ],
   "source": [
    "df.head()"
   ]
  },
  {
   "cell_type": "code",
   "execution_count": 7,
   "id": "d9c73524",
   "metadata": {
    "execution": {
     "iopub.execute_input": "2024-11-17T19:13:18.367209Z",
     "iopub.status.busy": "2024-11-17T19:13:18.365996Z",
     "iopub.status.idle": "2024-11-17T19:13:18.394759Z",
     "shell.execute_reply": "2024-11-17T19:13:18.392680Z"
    },
    "papermill": {
     "duration": 0.046165,
     "end_time": "2024-11-17T19:13:18.397561",
     "exception": false,
     "start_time": "2024-11-17T19:13:18.351396",
     "status": "completed"
    },
    "tags": []
   },
   "outputs": [
    {
     "name": "stdout",
     "output_type": "stream",
     "text": [
      "<class 'pandas.core.frame.DataFrame'>\n",
      "RangeIndex: 768 entries, 0 to 767\n",
      "Data columns (total 9 columns):\n",
      " #   Column                    Non-Null Count  Dtype  \n",
      "---  ------                    --------------  -----  \n",
      " 0   Pregnancies               768 non-null    int64  \n",
      " 1   Glucose                   768 non-null    int64  \n",
      " 2   BloodPressure             768 non-null    int64  \n",
      " 3   SkinThickness             768 non-null    int64  \n",
      " 4   Insulin                   768 non-null    int64  \n",
      " 5   BMI                       768 non-null    float64\n",
      " 6   DiabetesPedigreeFunction  768 non-null    float64\n",
      " 7   Age                       768 non-null    int64  \n",
      " 8   Outcome                   768 non-null    int64  \n",
      "dtypes: float64(2), int64(7)\n",
      "memory usage: 54.1 KB\n"
     ]
    }
   ],
   "source": [
    "df.info()"
   ]
  },
  {
   "cell_type": "code",
   "execution_count": 8,
   "id": "9f871bf5",
   "metadata": {
    "execution": {
     "iopub.execute_input": "2024-11-17T19:13:18.424644Z",
     "iopub.status.busy": "2024-11-17T19:13:18.424215Z",
     "iopub.status.idle": "2024-11-17T19:13:18.466554Z",
     "shell.execute_reply": "2024-11-17T19:13:18.465284Z"
    },
    "papermill": {
     "duration": 0.059337,
     "end_time": "2024-11-17T19:13:18.469697",
     "exception": false,
     "start_time": "2024-11-17T19:13:18.410360",
     "status": "completed"
    },
    "tags": []
   },
   "outputs": [
    {
     "data": {
      "text/html": [
       "<div>\n",
       "<style scoped>\n",
       "    .dataframe tbody tr th:only-of-type {\n",
       "        vertical-align: middle;\n",
       "    }\n",
       "\n",
       "    .dataframe tbody tr th {\n",
       "        vertical-align: top;\n",
       "    }\n",
       "\n",
       "    .dataframe thead th {\n",
       "        text-align: right;\n",
       "    }\n",
       "</style>\n",
       "<table border=\"1\" class=\"dataframe\">\n",
       "  <thead>\n",
       "    <tr style=\"text-align: right;\">\n",
       "      <th></th>\n",
       "      <th>count</th>\n",
       "      <th>mean</th>\n",
       "      <th>std</th>\n",
       "      <th>min</th>\n",
       "      <th>25%</th>\n",
       "      <th>50%</th>\n",
       "      <th>75%</th>\n",
       "      <th>max</th>\n",
       "    </tr>\n",
       "  </thead>\n",
       "  <tbody>\n",
       "    <tr>\n",
       "      <th>Pregnancies</th>\n",
       "      <td>768.0</td>\n",
       "      <td>3.845052</td>\n",
       "      <td>3.369578</td>\n",
       "      <td>0.000</td>\n",
       "      <td>1.00000</td>\n",
       "      <td>3.0000</td>\n",
       "      <td>6.00000</td>\n",
       "      <td>17.00</td>\n",
       "    </tr>\n",
       "    <tr>\n",
       "      <th>Glucose</th>\n",
       "      <td>768.0</td>\n",
       "      <td>120.894531</td>\n",
       "      <td>31.972618</td>\n",
       "      <td>0.000</td>\n",
       "      <td>99.00000</td>\n",
       "      <td>117.0000</td>\n",
       "      <td>140.25000</td>\n",
       "      <td>199.00</td>\n",
       "    </tr>\n",
       "    <tr>\n",
       "      <th>BloodPressure</th>\n",
       "      <td>768.0</td>\n",
       "      <td>69.105469</td>\n",
       "      <td>19.355807</td>\n",
       "      <td>0.000</td>\n",
       "      <td>62.00000</td>\n",
       "      <td>72.0000</td>\n",
       "      <td>80.00000</td>\n",
       "      <td>122.00</td>\n",
       "    </tr>\n",
       "    <tr>\n",
       "      <th>SkinThickness</th>\n",
       "      <td>768.0</td>\n",
       "      <td>20.536458</td>\n",
       "      <td>15.952218</td>\n",
       "      <td>0.000</td>\n",
       "      <td>0.00000</td>\n",
       "      <td>23.0000</td>\n",
       "      <td>32.00000</td>\n",
       "      <td>99.00</td>\n",
       "    </tr>\n",
       "    <tr>\n",
       "      <th>Insulin</th>\n",
       "      <td>768.0</td>\n",
       "      <td>79.799479</td>\n",
       "      <td>115.244002</td>\n",
       "      <td>0.000</td>\n",
       "      <td>0.00000</td>\n",
       "      <td>30.5000</td>\n",
       "      <td>127.25000</td>\n",
       "      <td>846.00</td>\n",
       "    </tr>\n",
       "    <tr>\n",
       "      <th>BMI</th>\n",
       "      <td>768.0</td>\n",
       "      <td>31.992578</td>\n",
       "      <td>7.884160</td>\n",
       "      <td>0.000</td>\n",
       "      <td>27.30000</td>\n",
       "      <td>32.0000</td>\n",
       "      <td>36.60000</td>\n",
       "      <td>67.10</td>\n",
       "    </tr>\n",
       "    <tr>\n",
       "      <th>DiabetesPedigreeFunction</th>\n",
       "      <td>768.0</td>\n",
       "      <td>0.471876</td>\n",
       "      <td>0.331329</td>\n",
       "      <td>0.078</td>\n",
       "      <td>0.24375</td>\n",
       "      <td>0.3725</td>\n",
       "      <td>0.62625</td>\n",
       "      <td>2.42</td>\n",
       "    </tr>\n",
       "    <tr>\n",
       "      <th>Age</th>\n",
       "      <td>768.0</td>\n",
       "      <td>33.240885</td>\n",
       "      <td>11.760232</td>\n",
       "      <td>21.000</td>\n",
       "      <td>24.00000</td>\n",
       "      <td>29.0000</td>\n",
       "      <td>41.00000</td>\n",
       "      <td>81.00</td>\n",
       "    </tr>\n",
       "    <tr>\n",
       "      <th>Outcome</th>\n",
       "      <td>768.0</td>\n",
       "      <td>0.348958</td>\n",
       "      <td>0.476951</td>\n",
       "      <td>0.000</td>\n",
       "      <td>0.00000</td>\n",
       "      <td>0.0000</td>\n",
       "      <td>1.00000</td>\n",
       "      <td>1.00</td>\n",
       "    </tr>\n",
       "  </tbody>\n",
       "</table>\n",
       "</div>"
      ],
      "text/plain": [
       "                          count        mean         std     min       25%  \\\n",
       "Pregnancies               768.0    3.845052    3.369578   0.000   1.00000   \n",
       "Glucose                   768.0  120.894531   31.972618   0.000  99.00000   \n",
       "BloodPressure             768.0   69.105469   19.355807   0.000  62.00000   \n",
       "SkinThickness             768.0   20.536458   15.952218   0.000   0.00000   \n",
       "Insulin                   768.0   79.799479  115.244002   0.000   0.00000   \n",
       "BMI                       768.0   31.992578    7.884160   0.000  27.30000   \n",
       "DiabetesPedigreeFunction  768.0    0.471876    0.331329   0.078   0.24375   \n",
       "Age                       768.0   33.240885   11.760232  21.000  24.00000   \n",
       "Outcome                   768.0    0.348958    0.476951   0.000   0.00000   \n",
       "\n",
       "                               50%        75%     max  \n",
       "Pregnancies                 3.0000    6.00000   17.00  \n",
       "Glucose                   117.0000  140.25000  199.00  \n",
       "BloodPressure              72.0000   80.00000  122.00  \n",
       "SkinThickness              23.0000   32.00000   99.00  \n",
       "Insulin                    30.5000  127.25000  846.00  \n",
       "BMI                        32.0000   36.60000   67.10  \n",
       "DiabetesPedigreeFunction    0.3725    0.62625    2.42  \n",
       "Age                        29.0000   41.00000   81.00  \n",
       "Outcome                     0.0000    1.00000    1.00  "
      ]
     },
     "execution_count": 8,
     "metadata": {},
     "output_type": "execute_result"
    }
   ],
   "source": [
    "# veri setini incele\n",
    "df.describe().T"
   ]
  },
  {
   "cell_type": "code",
   "execution_count": 9,
   "id": "e43fc834",
   "metadata": {
    "execution": {
     "iopub.execute_input": "2024-11-17T19:13:18.500099Z",
     "iopub.status.busy": "2024-11-17T19:13:18.498825Z",
     "iopub.status.idle": "2024-11-17T19:13:18.857381Z",
     "shell.execute_reply": "2024-11-17T19:13:18.856016Z"
    },
    "papermill": {
     "duration": 0.377307,
     "end_time": "2024-11-17T19:13:18.860136",
     "exception": false,
     "start_time": "2024-11-17T19:13:18.482829",
     "status": "completed"
    },
    "tags": []
   },
   "outputs": [
    {
     "data": {
      "text/plain": [
       "<Axes: ylabel='Frequency'>"
      ]
     },
     "execution_count": 9,
     "metadata": {},
     "output_type": "execute_result"
    },
    {
     "data": {
      "image/png": "[encoded data removed]",
      "text/plain": [
       "<Figure size 640x480 with 1 Axes>"
      ]
     },
     "metadata": {},
     "output_type": "display_data"
    }
   ],
   "source": [
    "df.Outcome.plot(kind=\"hist\")"
   ]
  },
  {
   "cell_type": "code",
   "execution_count": 10,
   "id": "f0f8b815",
   "metadata": {
    "execution": {
     "iopub.execute_input": "2024-11-17T19:13:18.891019Z",
     "iopub.status.busy": "2024-11-17T19:13:18.890525Z",
     "iopub.status.idle": "2024-11-17T19:13:18.898186Z",
     "shell.execute_reply": "2024-11-17T19:13:18.896947Z"
    },
    "papermill": {
     "duration": 0.025409,
     "end_time": "2024-11-17T19:13:18.900832",
     "exception": false,
     "start_time": "2024-11-17T19:13:18.875423",
     "status": "completed"
    },
    "tags": []
   },
   "outputs": [
    {
     "data": {
      "text/plain": [
       "(768, 9)"
      ]
     },
     "execution_count": 10,
     "metadata": {},
     "output_type": "execute_result"
    }
   ],
   "source": [
    "df.shape"
   ]
  },
  {
   "cell_type": "code",
   "execution_count": 11,
   "id": "6c0e6b37",
   "metadata": {
    "execution": {
     "iopub.execute_input": "2024-11-17T19:13:18.930153Z",
     "iopub.status.busy": "2024-11-17T19:13:18.929718Z",
     "iopub.status.idle": "2024-11-17T19:13:18.939844Z",
     "shell.execute_reply": "2024-11-17T19:13:18.938660Z"
    },
    "papermill": {
     "duration": 0.027706,
     "end_time": "2024-11-17T19:13:18.942556",
     "exception": false,
     "start_time": "2024-11-17T19:13:18.914850",
     "status": "completed"
    },
    "tags": []
   },
   "outputs": [
    {
     "data": {
      "text/plain": [
       "0"
      ]
     },
     "execution_count": 11,
     "metadata": {},
     "output_type": "execute_result"
    }
   ],
   "source": [
    "#tekrar eden satır kontrolü\n",
    "df.duplicated().sum()"
   ]
  },
  {
   "cell_type": "markdown",
   "id": "96e5d75b",
   "metadata": {
    "execution": {
     "iopub.execute_input": "2024-11-16T23:49:08.027161Z",
     "iopub.status.busy": "2024-11-16T23:49:08.026671Z",
     "iopub.status.idle": "2024-11-16T23:49:08.064395Z",
     "shell.execute_reply": "2024-11-16T23:49:08.062750Z",
     "shell.execute_reply.started": "2024-11-16T23:49:08.027115Z"
    },
    "papermill": {
     "duration": 0.01351,
     "end_time": "2024-11-17T19:13:18.970313",
     "exception": false,
     "start_time": "2024-11-17T19:13:18.956803",
     "status": "completed"
    },
    "tags": []
   },
   "source": [
    "## Korelasyon"
   ]
  },
  {
   "cell_type": "code",
   "execution_count": 12,
   "id": "ce2f7ed0",
   "metadata": {
    "execution": {
     "iopub.execute_input": "2024-11-17T19:13:19.000910Z",
     "iopub.status.busy": "2024-11-17T19:13:18.999469Z",
     "iopub.status.idle": "2024-11-17T19:13:19.013384Z",
     "shell.execute_reply": "2024-11-17T19:13:19.012016Z"
    },
    "papermill": {
     "duration": 0.032022,
     "end_time": "2024-11-17T19:13:19.016050",
     "exception": false,
     "start_time": "2024-11-17T19:13:18.984028",
     "status": "completed"
    },
    "tags": []
   },
   "outputs": [
    {
     "data": {
      "text/plain": [
       "Outcome                     1.000000\n",
       "Glucose                     0.466581\n",
       "BMI                         0.292695\n",
       "Age                         0.238356\n",
       "Pregnancies                 0.221898\n",
       "DiabetesPedigreeFunction    0.173844\n",
       "Insulin                     0.130548\n",
       "SkinThickness               0.074752\n",
       "BloodPressure               0.065068\n",
       "Name: Outcome, dtype: float64"
      ]
     },
     "execution_count": 12,
     "metadata": {},
     "output_type": "execute_result"
    }
   ],
   "source": [
    "df.corr(numeric_only=True)[\"Outcome\"].sort_values(ascending=False)"
   ]
  },
  {
   "cell_type": "code",
   "execution_count": 13,
   "id": "98c6ae75",
   "metadata": {
    "execution": {
     "iopub.execute_input": "2024-11-17T19:13:19.045769Z",
     "iopub.status.busy": "2024-11-17T19:13:19.045309Z",
     "iopub.status.idle": "2024-11-17T19:13:19.728016Z",
     "shell.execute_reply": "2024-11-17T19:13:19.726733Z"
    },
    "papermill": {
     "duration": 0.701054,
     "end_time": "2024-11-17T19:13:19.731012",
     "exception": false,
     "start_time": "2024-11-17T19:13:19.029958",
     "status": "completed"
    },
    "tags": []
   },
   "outputs": [
    {
     "data": {
      "text/plain": [
       "<Axes: >"
      ]
     },
     "execution_count": 13,
     "metadata": {},
     "output_type": "execute_result"
    },
    {
     "data": {
      "image/png": "[encoded data removed]",
      "text/plain": [
       "<Figure size 640x480 with 2 Axes>"
      ]
     },
     "metadata": {},
     "output_type": "display_data"
    }
   ],
   "source": [
    "df_matrix=df.corr()\n",
    "sns.heatmap(df_matrix,annot=True)"
   ]
  },
  {
   "cell_type": "markdown",
   "id": "be91bc07",
   "metadata": {
    "papermill": {
     "duration": 0.015533,
     "end_time": "2024-11-17T19:13:19.763548",
     "exception": false,
     "start_time": "2024-11-17T19:13:19.748015",
     "status": "completed"
    },
    "tags": []
   },
   "source": [
    "## Özellikleri ve Hedefi Belirleme"
   ]
  },
  {
   "cell_type": "code",
   "execution_count": 14,
   "id": "155783cb",
   "metadata": {
    "execution": {
     "iopub.execute_input": "2024-11-17T19:13:19.797099Z",
     "iopub.status.busy": "2024-11-17T19:13:19.796621Z",
     "iopub.status.idle": "2024-11-17T19:13:19.813493Z",
     "shell.execute_reply": "2024-11-17T19:13:19.812426Z"
    },
    "papermill": {
     "duration": 0.036907,
     "end_time": "2024-11-17T19:13:19.816126",
     "exception": false,
     "start_time": "2024-11-17T19:13:19.779219",
     "status": "completed"
    },
    "tags": []
   },
   "outputs": [
    {
     "data": {
      "text/html": [
       "<div>\n",
       "<style scoped>\n",
       "    .dataframe tbody tr th:only-of-type {\n",
       "        vertical-align: middle;\n",
       "    }\n",
       "\n",
       "    .dataframe tbody tr th {\n",
       "        vertical-align: top;\n",
       "    }\n",
       "\n",
       "    .dataframe thead th {\n",
       "        text-align: right;\n",
       "    }\n",
       "</style>\n",
       "<table border=\"1\" class=\"dataframe\">\n",
       "  <thead>\n",
       "    <tr style=\"text-align: right;\">\n",
       "      <th></th>\n",
       "      <th>Pregnancies</th>\n",
       "      <th>Glucose</th>\n",
       "      <th>Insulin</th>\n",
       "      <th>BMI</th>\n",
       "      <th>DiabetesPedigreeFunction</th>\n",
       "      <th>Age</th>\n",
       "      <th>Outcome</th>\n",
       "    </tr>\n",
       "  </thead>\n",
       "  <tbody>\n",
       "    <tr>\n",
       "      <th>0</th>\n",
       "      <td>6</td>\n",
       "      <td>148</td>\n",
       "      <td>0</td>\n",
       "      <td>33.6</td>\n",
       "      <td>0.627</td>\n",
       "      <td>50</td>\n",
       "      <td>1</td>\n",
       "    </tr>\n",
       "    <tr>\n",
       "      <th>1</th>\n",
       "      <td>1</td>\n",
       "      <td>85</td>\n",
       "      <td>0</td>\n",
       "      <td>26.6</td>\n",
       "      <td>0.351</td>\n",
       "      <td>31</td>\n",
       "      <td>0</td>\n",
       "    </tr>\n",
       "    <tr>\n",
       "      <th>2</th>\n",
       "      <td>8</td>\n",
       "      <td>183</td>\n",
       "      <td>0</td>\n",
       "      <td>23.3</td>\n",
       "      <td>0.672</td>\n",
       "      <td>32</td>\n",
       "      <td>1</td>\n",
       "    </tr>\n",
       "    <tr>\n",
       "      <th>3</th>\n",
       "      <td>1</td>\n",
       "      <td>89</td>\n",
       "      <td>94</td>\n",
       "      <td>28.1</td>\n",
       "      <td>0.167</td>\n",
       "      <td>21</td>\n",
       "      <td>0</td>\n",
       "    </tr>\n",
       "    <tr>\n",
       "      <th>4</th>\n",
       "      <td>0</td>\n",
       "      <td>137</td>\n",
       "      <td>168</td>\n",
       "      <td>43.1</td>\n",
       "      <td>2.288</td>\n",
       "      <td>33</td>\n",
       "      <td>1</td>\n",
       "    </tr>\n",
       "  </tbody>\n",
       "</table>\n",
       "</div>"
      ],
      "text/plain": [
       "   Pregnancies  Glucose  Insulin   BMI  DiabetesPedigreeFunction  Age  Outcome\n",
       "0            6      148        0  33.6                     0.627   50        1\n",
       "1            1       85        0  26.6                     0.351   31        0\n",
       "2            8      183        0  23.3                     0.672   32        1\n",
       "3            1       89       94  28.1                     0.167   21        0\n",
       "4            0      137      168  43.1                     2.288   33        1"
      ]
     },
     "execution_count": 14,
     "metadata": {},
     "output_type": "execute_result"
    }
   ],
   "source": [
    "\n",
    "df = df.drop(['BloodPressure', 'SkinThickness'], axis='columns')\n",
    "df.head()"
   ]
  },
  {
   "cell_type": "code",
   "execution_count": 15,
   "id": "21a2f3ff",
   "metadata": {
    "execution": {
     "iopub.execute_input": "2024-11-17T19:13:19.850604Z",
     "iopub.status.busy": "2024-11-17T19:13:19.850181Z",
     "iopub.status.idle": "2024-11-17T19:13:19.856812Z",
     "shell.execute_reply": "2024-11-17T19:13:19.855678Z"
    },
    "papermill": {
     "duration": 0.026756,
     "end_time": "2024-11-17T19:13:19.859263",
     "exception": false,
     "start_time": "2024-11-17T19:13:19.832507",
     "status": "completed"
    },
    "tags": []
   },
   "outputs": [],
   "source": [
    "X = df.drop('Outcome', axis=1)\n",
    "y = df['Outcome']"
   ]
  },
  {
   "cell_type": "code",
   "execution_count": 16,
   "id": "32b64687",
   "metadata": {
    "execution": {
     "iopub.execute_input": "2024-11-17T19:13:19.894987Z",
     "iopub.status.busy": "2024-11-17T19:13:19.894512Z",
     "iopub.status.idle": "2024-11-17T19:13:19.912155Z",
     "shell.execute_reply": "2024-11-17T19:13:19.910911Z"
    },
    "papermill": {
     "duration": 0.03734,
     "end_time": "2024-11-17T19:13:19.914553",
     "exception": false,
     "start_time": "2024-11-17T19:13:19.877213",
     "status": "completed"
    },
    "tags": []
   },
   "outputs": [
    {
     "data": {
      "text/html": [
       "<div>\n",
       "<style scoped>\n",
       "    .dataframe tbody tr th:only-of-type {\n",
       "        vertical-align: middle;\n",
       "    }\n",
       "\n",
       "    .dataframe tbody tr th {\n",
       "        vertical-align: top;\n",
       "    }\n",
       "\n",
       "    .dataframe thead th {\n",
       "        text-align: right;\n",
       "    }\n",
       "</style>\n",
       "<table border=\"1\" class=\"dataframe\">\n",
       "  <thead>\n",
       "    <tr style=\"text-align: right;\">\n",
       "      <th></th>\n",
       "      <th>Pregnancies</th>\n",
       "      <th>Glucose</th>\n",
       "      <th>Insulin</th>\n",
       "      <th>BMI</th>\n",
       "      <th>DiabetesPedigreeFunction</th>\n",
       "      <th>Age</th>\n",
       "    </tr>\n",
       "  </thead>\n",
       "  <tbody>\n",
       "    <tr>\n",
       "      <th>0</th>\n",
       "      <td>6</td>\n",
       "      <td>148</td>\n",
       "      <td>0</td>\n",
       "      <td>33.6</td>\n",
       "      <td>0.627</td>\n",
       "      <td>50</td>\n",
       "    </tr>\n",
       "    <tr>\n",
       "      <th>1</th>\n",
       "      <td>1</td>\n",
       "      <td>85</td>\n",
       "      <td>0</td>\n",
       "      <td>26.6</td>\n",
       "      <td>0.351</td>\n",
       "      <td>31</td>\n",
       "    </tr>\n",
       "    <tr>\n",
       "      <th>2</th>\n",
       "      <td>8</td>\n",
       "      <td>183</td>\n",
       "      <td>0</td>\n",
       "      <td>23.3</td>\n",
       "      <td>0.672</td>\n",
       "      <td>32</td>\n",
       "    </tr>\n",
       "    <tr>\n",
       "      <th>3</th>\n",
       "      <td>1</td>\n",
       "      <td>89</td>\n",
       "      <td>94</td>\n",
       "      <td>28.1</td>\n",
       "      <td>0.167</td>\n",
       "      <td>21</td>\n",
       "    </tr>\n",
       "    <tr>\n",
       "      <th>4</th>\n",
       "      <td>0</td>\n",
       "      <td>137</td>\n",
       "      <td>168</td>\n",
       "      <td>43.1</td>\n",
       "      <td>2.288</td>\n",
       "      <td>33</td>\n",
       "    </tr>\n",
       "    <tr>\n",
       "      <th>...</th>\n",
       "      <td>...</td>\n",
       "      <td>...</td>\n",
       "      <td>...</td>\n",
       "      <td>...</td>\n",
       "      <td>...</td>\n",
       "      <td>...</td>\n",
       "    </tr>\n",
       "    <tr>\n",
       "      <th>763</th>\n",
       "      <td>10</td>\n",
       "      <td>101</td>\n",
       "      <td>180</td>\n",
       "      <td>32.9</td>\n",
       "      <td>0.171</td>\n",
       "      <td>63</td>\n",
       "    </tr>\n",
       "    <tr>\n",
       "      <th>764</th>\n",
       "      <td>2</td>\n",
       "      <td>122</td>\n",
       "      <td>0</td>\n",
       "      <td>36.8</td>\n",
       "      <td>0.340</td>\n",
       "      <td>27</td>\n",
       "    </tr>\n",
       "    <tr>\n",
       "      <th>765</th>\n",
       "      <td>5</td>\n",
       "      <td>121</td>\n",
       "      <td>112</td>\n",
       "      <td>26.2</td>\n",
       "      <td>0.245</td>\n",
       "      <td>30</td>\n",
       "    </tr>\n",
       "    <tr>\n",
       "      <th>766</th>\n",
       "      <td>1</td>\n",
       "      <td>126</td>\n",
       "      <td>0</td>\n",
       "      <td>30.1</td>\n",
       "      <td>0.349</td>\n",
       "      <td>47</td>\n",
       "    </tr>\n",
       "    <tr>\n",
       "      <th>767</th>\n",
       "      <td>1</td>\n",
       "      <td>93</td>\n",
       "      <td>0</td>\n",
       "      <td>30.4</td>\n",
       "      <td>0.315</td>\n",
       "      <td>23</td>\n",
       "    </tr>\n",
       "  </tbody>\n",
       "</table>\n",
       "<p>768 rows × 6 columns</p>\n",
       "</div>"
      ],
      "text/plain": [
       "     Pregnancies  Glucose  Insulin   BMI  DiabetesPedigreeFunction  Age\n",
       "0              6      148        0  33.6                     0.627   50\n",
       "1              1       85        0  26.6                     0.351   31\n",
       "2              8      183        0  23.3                     0.672   32\n",
       "3              1       89       94  28.1                     0.167   21\n",
       "4              0      137      168  43.1                     2.288   33\n",
       "..           ...      ...      ...   ...                       ...  ...\n",
       "763           10      101      180  32.9                     0.171   63\n",
       "764            2      122        0  36.8                     0.340   27\n",
       "765            5      121      112  26.2                     0.245   30\n",
       "766            1      126        0  30.1                     0.349   47\n",
       "767            1       93        0  30.4                     0.315   23\n",
       "\n",
       "[768 rows x 6 columns]"
      ]
     },
     "execution_count": 16,
     "metadata": {},
     "output_type": "execute_result"
    }
   ],
   "source": [
    "X"
   ]
  },
  {
   "cell_type": "code",
   "execution_count": 17,
   "id": "d4d93e02",
   "metadata": {
    "execution": {
     "iopub.execute_input": "2024-11-17T19:13:19.949063Z",
     "iopub.status.busy": "2024-11-17T19:13:19.948551Z",
     "iopub.status.idle": "2024-11-17T19:13:19.958544Z",
     "shell.execute_reply": "2024-11-17T19:13:19.957154Z"
    },
    "papermill": {
     "duration": 0.030268,
     "end_time": "2024-11-17T19:13:19.961093",
     "exception": false,
     "start_time": "2024-11-17T19:13:19.930825",
     "status": "completed"
    },
    "tags": []
   },
   "outputs": [
    {
     "data": {
      "text/plain": [
       "0      1\n",
       "1      0\n",
       "2      1\n",
       "3      0\n",
       "4      1\n",
       "      ..\n",
       "763    0\n",
       "764    0\n",
       "765    0\n",
       "766    1\n",
       "767    0\n",
       "Name: Outcome, Length: 768, dtype: int64"
      ]
     },
     "execution_count": 17,
     "metadata": {},
     "output_type": "execute_result"
    }
   ],
   "source": [
    "y"
   ]
  },
  {
   "cell_type": "code",
   "execution_count": 18,
   "id": "ec93963f",
   "metadata": {
    "execution": {
     "iopub.execute_input": "2024-11-17T19:13:19.996995Z",
     "iopub.status.busy": "2024-11-17T19:13:19.995917Z",
     "iopub.status.idle": "2024-11-17T19:13:20.004480Z",
     "shell.execute_reply": "2024-11-17T19:13:20.003149Z"
    },
    "papermill": {
     "duration": 0.029531,
     "end_time": "2024-11-17T19:13:20.007155",
     "exception": false,
     "start_time": "2024-11-17T19:13:19.977624",
     "status": "completed"
    },
    "tags": []
   },
   "outputs": [
    {
     "data": {
      "text/plain": [
       "Index(['Pregnancies', 'Glucose', 'Insulin', 'BMI', 'DiabetesPedigreeFunction',\n",
       "       'Age'],\n",
       "      dtype='object')"
      ]
     },
     "execution_count": 18,
     "metadata": {},
     "output_type": "execute_result"
    }
   ],
   "source": [
    "X.columns"
   ]
  },
  {
   "cell_type": "markdown",
   "id": "f1f8e71b",
   "metadata": {
    "papermill": {
     "duration": 0.016222,
     "end_time": "2024-11-17T19:13:20.040197",
     "exception": false,
     "start_time": "2024-11-17T19:13:20.023975",
     "status": "completed"
    },
    "tags": []
   },
   "source": [
    "Standart Scaler İle Ölçeklendirme"
   ]
  },
  {
   "cell_type": "code",
   "execution_count": 19,
   "id": "bb0082a2",
   "metadata": {
    "execution": {
     "iopub.execute_input": "2024-11-17T19:13:20.075745Z",
     "iopub.status.busy": "2024-11-17T19:13:20.075249Z",
     "iopub.status.idle": "2024-11-17T19:13:20.284154Z",
     "shell.execute_reply": "2024-11-17T19:13:20.282894Z"
    },
    "papermill": {
     "duration": 0.230248,
     "end_time": "2024-11-17T19:13:20.287139",
     "exception": false,
     "start_time": "2024-11-17T19:13:20.056891",
     "status": "completed"
    },
    "tags": []
   },
   "outputs": [],
   "source": [
    "from sklearn.preprocessing import StandardScaler\n",
    "scaler=StandardScaler()"
   ]
  },
  {
   "cell_type": "code",
   "execution_count": 20,
   "id": "f18c8720",
   "metadata": {
    "execution": {
     "iopub.execute_input": "2024-11-17T19:13:20.322271Z",
     "iopub.status.busy": "2024-11-17T19:13:20.321807Z",
     "iopub.status.idle": "2024-11-17T19:13:20.335818Z",
     "shell.execute_reply": "2024-11-17T19:13:20.334727Z"
    },
    "papermill": {
     "duration": 0.034677,
     "end_time": "2024-11-17T19:13:20.338440",
     "exception": false,
     "start_time": "2024-11-17T19:13:20.303763",
     "status": "completed"
    },
    "tags": []
   },
   "outputs": [
    {
     "data": {
      "text/plain": [
       "array([[ 0.63994726,  0.84832379, -0.69289057,  0.20401277,  0.46849198,\n",
       "         1.4259954 ],\n",
       "       [-0.84488505, -1.12339636, -0.69289057, -0.68442195, -0.36506078,\n",
       "        -0.19067191],\n",
       "       [ 1.23388019,  1.94372388, -0.69289057, -1.10325546,  0.60439732,\n",
       "        -0.10558415],\n",
       "       ...,\n",
       "       [ 0.3429808 ,  0.00330087,  0.27959377, -0.73518964, -0.68519336,\n",
       "        -0.27575966],\n",
       "       [-0.84488505,  0.1597866 , -0.69289057, -0.24020459, -0.37110101,\n",
       "         1.17073215],\n",
       "       [-0.84488505, -0.8730192 , -0.69289057, -0.20212881, -0.47378505,\n",
       "        -0.87137393]])"
      ]
     },
     "execution_count": 20,
     "metadata": {},
     "output_type": "execute_result"
    }
   ],
   "source": [
    "X_scaler = scaler.fit_transform(X)\n",
    "X_scaler"
   ]
  },
  {
   "cell_type": "markdown",
   "id": "498a0524",
   "metadata": {
    "papermill": {
     "duration": 0.016564,
     "end_time": "2024-11-17T19:13:20.371792",
     "exception": false,
     "start_time": "2024-11-17T19:13:20.355228",
     "status": "completed"
    },
    "tags": []
   },
   "source": [
    "## 3. Veri Setini Eğitim ve Test Olarak Ayırma"
   ]
  },
  {
   "cell_type": "code",
   "execution_count": 21,
   "id": "25604229",
   "metadata": {
    "execution": {
     "iopub.execute_input": "2024-11-17T19:13:20.407051Z",
     "iopub.status.busy": "2024-11-17T19:13:20.406587Z",
     "iopub.status.idle": "2024-11-17T19:13:21.102024Z",
     "shell.execute_reply": "2024-11-17T19:13:21.100538Z"
    },
    "papermill": {
     "duration": 0.716553,
     "end_time": "2024-11-17T19:13:21.105029",
     "exception": false,
     "start_time": "2024-11-17T19:13:20.388476",
     "status": "completed"
    },
    "tags": []
   },
   "outputs": [],
   "source": [
    "from sklearn.model_selection import train_test_split\n",
    "from sklearn.ensemble import RandomForestClassifier\n",
    "from imblearn.over_sampling import SMOTE\n",
    "from sklearn.metrics import classification_report, confusion_matrix\n",
    "\n",
    "X_train, X_test ,y_train ,y_test = train_test_split(X_scaler,y,test_size=0.2,random_state=42)\n",
    "\n",
    "smote = SMOTE(random_state=42)\n",
    "X_train_res, y_train_res = smote.fit_resample(X_train, y_train)"
   ]
  },
  {
   "cell_type": "markdown",
   "id": "054d78db",
   "metadata": {
    "papermill": {
     "duration": 0.016331,
     "end_time": "2024-11-17T19:13:21.138788",
     "exception": false,
     "start_time": "2024-11-17T19:13:21.122457",
     "status": "completed"
    },
    "tags": []
   },
   "source": [
    "## 4. Modelleme ve Modeli Değerlendirme"
   ]
  },
  {
   "cell_type": "code",
   "execution_count": 22,
   "id": "4dc9711a",
   "metadata": {
    "execution": {
     "iopub.execute_input": "2024-11-17T19:13:21.174988Z",
     "iopub.status.busy": "2024-11-17T19:13:21.174292Z",
     "iopub.status.idle": "2024-11-17T19:13:21.193914Z",
     "shell.execute_reply": "2024-11-17T19:13:21.192915Z"
    },
    "papermill": {
     "duration": 0.040554,
     "end_time": "2024-11-17T19:13:21.196614",
     "exception": false,
     "start_time": "2024-11-17T19:13:21.156060",
     "status": "completed"
    },
    "tags": []
   },
   "outputs": [],
   "source": [
    "import matplotlib.pyplot as plt\n",
    "from sklearn.linear_model import LogisticRegression\n",
    "from sklearn.neighbors import KNeighborsClassifier\n",
    "from sklearn.tree import DecisionTreeClassifier\n",
    "from sklearn.ensemble import RandomForestClassifier, AdaBoostClassifier, GradientBoostingClassifier\n",
    "from sklearn.naive_bayes import MultinomialNB, BernoulliNB\n",
    "from sklearn.metrics import accuracy_score, precision_score, recall_score, f1_score, confusion_matrix, classification_report\n",
    "from sklearn.model_selection import train_test_split\n",
    "\n",
    "def classification_models(x, y):\n",
    "    models = {\n",
    "        \"LogisticRegression\": LogisticRegression(max_iter=200),\n",
    "        \"KNeighborsClassifier\": KNeighborsClassifier(),\n",
    "        \"DecisionTreeClassifier\": DecisionTreeClassifier(),\n",
    "        \"RandomForestClassifier\": RandomForestClassifier(),\n",
    "        \"AdaBoostClassifier\": AdaBoostClassifier(),\n",
    "        \"GradientBoostingClassifier\": GradientBoostingClassifier(),\n",
    "        \"BernoulliNB\": BernoulliNB(),\n",
    "        \"MultinomialNB\": MultinomialNB()\n",
    "    }\n",
    "    \n",
    "    x_train, x_test, y_train, y_test = train_test_split(x, y, test_size=0.3, random_state=42)\n",
    "    metrics_list = []  # append yerine liste kullanıyoruz\n",
    "\n",
    "    for name, model in models.items():\n",
    "        model.fit(x_train, y_train)\n",
    "        predictions = model.predict(x_test)\n",
    "\n",
    "        acc = accuracy_score(y_test, predictions)\n",
    "        prec = precision_score(y_test, predictions, average='weighted')\n",
    "        rec = recall_score(y_test, predictions, average='weighted')\n",
    "        f1 = f1_score(y_test, predictions, average='weighted')\n",
    "\n",
    "        metrics_list.append({\n",
    "            \"Model\": name, \n",
    "            \"Accuracy\": acc, \n",
    "            \"Precision\": prec, \n",
    "            \"Recall\": rec, \n",
    "            \"F1\": f1\n",
    "        })\n",
    "\n",
    "        print(f\"Model: {name}\")\n",
    "        print(\"Confusion Matrix:\\n\", confusion_matrix(y_test, predictions))\n",
    "        print(\"Classification Report:\\n\", classification_report(y_test, predictions))\n",
    "        print(\"-\" * 50)\n",
    "\n",
    "    # metrics_df'yi oluşturuyoruz\n",
    "    metrics_df = pd.DataFrame(metrics_list).sort_values(by=\"F1\", ascending=False).reset_index(drop=True)\n",
    "    print(\"Model başarı sıralaması:\\n\", metrics_df)\n",
    "\n",
    "    # Grafik çizimi\n",
    "    metrics_df.plot(kind=\"bar\", x=\"Model\", y=[\"Accuracy\", \"Precision\", \"Recall\", \"F1\"], figsize=(10, 6))\n",
    "    plt.title(\"Model Performansları\")\n",
    "    plt.xlabel(\"Modeller\")\n",
    "    plt.ylabel(\"Değerler\")\n",
    "    plt.xticks(rotation=45)\n",
    "    plt.show()\n",
    "    \n",
    "    return metrics_df\n"
   ]
  },
  {
   "cell_type": "code",
   "execution_count": 23,
   "id": "e8b88a41",
   "metadata": {
    "execution": {
     "iopub.execute_input": "2024-11-17T19:13:21.236791Z",
     "iopub.status.busy": "2024-11-17T19:13:21.236320Z",
     "iopub.status.idle": "2024-11-17T19:13:22.593471Z",
     "shell.execute_reply": "2024-11-17T19:13:22.592111Z"
    },
    "papermill": {
     "duration": 1.382497,
     "end_time": "2024-11-17T19:13:22.595971",
     "exception": false,
     "start_time": "2024-11-17T19:13:21.213474",
     "status": "completed"
    },
    "tags": []
   },
   "outputs": [
    {
     "name": "stdout",
     "output_type": "stream",
     "text": [
      "Model: LogisticRegression\n",
      "Confusion Matrix:\n",
      " [[123  28]\n",
      " [ 33  47]]\n",
      "Classification Report:\n",
      "               precision    recall  f1-score   support\n",
      "\n",
      "           0       0.79      0.81      0.80       151\n",
      "           1       0.63      0.59      0.61        80\n",
      "\n",
      "    accuracy                           0.74       231\n",
      "   macro avg       0.71      0.70      0.70       231\n",
      "weighted avg       0.73      0.74      0.73       231\n",
      "\n",
      "--------------------------------------------------\n",
      "Model: KNeighborsClassifier\n",
      "Confusion Matrix:\n",
      " [[113  38]\n",
      " [ 38  42]]\n",
      "Classification Report:\n",
      "               precision    recall  f1-score   support\n",
      "\n",
      "           0       0.75      0.75      0.75       151\n",
      "           1       0.53      0.53      0.53        80\n",
      "\n",
      "    accuracy                           0.67       231\n",
      "   macro avg       0.64      0.64      0.64       231\n",
      "weighted avg       0.67      0.67      0.67       231\n",
      "\n",
      "--------------------------------------------------\n",
      "Model: DecisionTreeClassifier\n",
      "Confusion Matrix:\n",
      " [[109  42]\n",
      " [ 25  55]]\n",
      "Classification Report:\n",
      "               precision    recall  f1-score   support\n",
      "\n",
      "           0       0.81      0.72      0.76       151\n",
      "           1       0.57      0.69      0.62        80\n",
      "\n",
      "    accuracy                           0.71       231\n",
      "   macro avg       0.69      0.70      0.69       231\n",
      "weighted avg       0.73      0.71      0.72       231\n",
      "\n",
      "--------------------------------------------------\n",
      "Model: RandomForestClassifier\n",
      "Confusion Matrix:\n",
      " [[121  30]\n",
      " [ 25  55]]\n",
      "Classification Report:\n",
      "               precision    recall  f1-score   support\n",
      "\n",
      "           0       0.83      0.80      0.81       151\n",
      "           1       0.65      0.69      0.67        80\n",
      "\n",
      "    accuracy                           0.76       231\n",
      "   macro avg       0.74      0.74      0.74       231\n",
      "weighted avg       0.77      0.76      0.76       231\n",
      "\n",
      "--------------------------------------------------\n",
      "Model: AdaBoostClassifier\n",
      "Confusion Matrix:\n",
      " [[126  25]\n",
      " [ 31  49]]\n",
      "Classification Report:\n",
      "               precision    recall  f1-score   support\n",
      "\n",
      "           0       0.80      0.83      0.82       151\n",
      "           1       0.66      0.61      0.64        80\n",
      "\n",
      "    accuracy                           0.76       231\n",
      "   macro avg       0.73      0.72      0.73       231\n",
      "weighted avg       0.75      0.76      0.76       231\n",
      "\n",
      "--------------------------------------------------\n",
      "Model: GradientBoostingClassifier\n",
      "Confusion Matrix:\n",
      " [[116  35]\n",
      " [ 28  52]]\n",
      "Classification Report:\n",
      "               precision    recall  f1-score   support\n",
      "\n",
      "           0       0.81      0.77      0.79       151\n",
      "           1       0.60      0.65      0.62        80\n",
      "\n",
      "    accuracy                           0.73       231\n",
      "   macro avg       0.70      0.71      0.70       231\n",
      "weighted avg       0.73      0.73      0.73       231\n",
      "\n",
      "--------------------------------------------------\n",
      "Model: BernoulliNB\n",
      "Confusion Matrix:\n",
      " [[151   0]\n",
      " [ 80   0]]\n",
      "Classification Report:\n",
      "               precision    recall  f1-score   support\n",
      "\n",
      "           0       0.65      1.00      0.79       151\n",
      "           1       0.00      0.00      0.00        80\n",
      "\n",
      "    accuracy                           0.65       231\n",
      "   macro avg       0.33      0.50      0.40       231\n",
      "weighted avg       0.43      0.65      0.52       231\n",
      "\n",
      "--------------------------------------------------\n",
      "Model: MultinomialNB\n",
      "Confusion Matrix:\n",
      " [[101  50]\n",
      " [ 46  34]]\n",
      "Classification Report:\n",
      "               precision    recall  f1-score   support\n",
      "\n",
      "           0       0.69      0.67      0.68       151\n",
      "           1       0.40      0.42      0.41        80\n",
      "\n",
      "    accuracy                           0.58       231\n",
      "   macro avg       0.55      0.55      0.55       231\n",
      "weighted avg       0.59      0.58      0.59       231\n",
      "\n",
      "--------------------------------------------------\n",
      "Model başarı sıralaması:\n",
      "                         Model  Accuracy  Precision    Recall        F1\n",
      "0      RandomForestClassifier  0.761905   0.765838  0.761905  0.763508\n",
      "1          AdaBoostClassifier  0.757576   0.753929  0.757576  0.755214\n",
      "2          LogisticRegression  0.735931   0.732429  0.735931  0.733822\n",
      "3  GradientBoostingClassifier  0.727273   0.733571  0.727273  0.729753\n",
      "4      DecisionTreeClassifier  0.709957   0.728092  0.709957  0.715235\n",
      "5        KNeighborsClassifier  0.670996   0.670996  0.670996  0.670996\n",
      "6               MultinomialNB  0.584416   0.589304  0.584416  0.586695\n",
      "7                 BernoulliNB  0.653680   0.427297  0.653680  0.516783\n"
     ]
    },
    {
     "name": "stderr",
     "output_type": "stream",
     "text": [
      "/opt/conda/lib/python3.10/site-packages/sklearn/metrics/_classification.py:1344: UndefinedMetricWarning: Precision is ill-defined and being set to 0.0 in labels with no predicted samples. Use `zero_division` parameter to control this behavior.\n",
      "  _warn_prf(average, modifier, msg_start, len(result))\n",
      "/opt/conda/lib/python3.10/site-packages/sklearn/metrics/_classification.py:1344: UndefinedMetricWarning: Precision and F-score are ill-defined and being set to 0.0 in labels with no predicted samples. Use `zero_division` parameter to control this behavior.\n",
      "  _warn_prf(average, modifier, msg_start, len(result))\n",
      "/opt/conda/lib/python3.10/site-packages/sklearn/metrics/_classification.py:1344: UndefinedMetricWarning: Precision and F-score are ill-defined and being set to 0.0 in labels with no predicted samples. Use `zero_division` parameter to control this behavior.\n",
      "  _warn_prf(average, modifier, msg_start, len(result))\n",
      "/opt/conda/lib/python3.10/site-packages/sklearn/metrics/_classification.py:1344: UndefinedMetricWarning: Precision and F-score are ill-defined and being set to 0.0 in labels with no predicted samples. Use `zero_division` parameter to control this behavior.\n",
      "  _warn_prf(average, modifier, msg_start, len(result))\n"
     ]
    },
    {
     "data": {
      "image/png": "[encoded data removed]",
      "text/plain": [
       "<Figure size 1000x600 with 1 Axes>"
      ]
     },
     "metadata": {},
     "output_type": "display_data"
    },
    {
     "data": {
      "text/html": [
       "<div>\n",
       "<style scoped>\n",
       "    .dataframe tbody tr th:only-of-type {\n",
       "        vertical-align: middle;\n",
       "    }\n",
       "\n",
       "    .dataframe tbody tr th {\n",
       "        vertical-align: top;\n",
       "    }\n",
       "\n",
       "    .dataframe thead th {\n",
       "        text-align: right;\n",
       "    }\n",
       "</style>\n",
       "<table border=\"1\" class=\"dataframe\">\n",
       "  <thead>\n",
       "    <tr style=\"text-align: right;\">\n",
       "      <th></th>\n",
       "      <th>Model</th>\n",
       "      <th>Accuracy</th>\n",
       "      <th>Precision</th>\n",
       "      <th>Recall</th>\n",
       "      <th>F1</th>\n",
       "    </tr>\n",
       "  </thead>\n",
       "  <tbody>\n",
       "    <tr>\n",
       "      <th>0</th>\n",
       "      <td>RandomForestClassifier</td>\n",
       "      <td>0.761905</td>\n",
       "      <td>0.765838</td>\n",
       "      <td>0.761905</td>\n",
       "      <td>0.763508</td>\n",
       "    </tr>\n",
       "    <tr>\n",
       "      <th>1</th>\n",
       "      <td>AdaBoostClassifier</td>\n",
       "      <td>0.757576</td>\n",
       "      <td>0.753929</td>\n",
       "      <td>0.757576</td>\n",
       "      <td>0.755214</td>\n",
       "    </tr>\n",
       "    <tr>\n",
       "      <th>2</th>\n",
       "      <td>LogisticRegression</td>\n",
       "      <td>0.735931</td>\n",
       "      <td>0.732429</td>\n",
       "      <td>0.735931</td>\n",
       "      <td>0.733822</td>\n",
       "    </tr>\n",
       "    <tr>\n",
       "      <th>3</th>\n",
       "      <td>GradientBoostingClassifier</td>\n",
       "      <td>0.727273</td>\n",
       "      <td>0.733571</td>\n",
       "      <td>0.727273</td>\n",
       "      <td>0.729753</td>\n",
       "    </tr>\n",
       "    <tr>\n",
       "      <th>4</th>\n",
       "      <td>DecisionTreeClassifier</td>\n",
       "      <td>0.709957</td>\n",
       "      <td>0.728092</td>\n",
       "      <td>0.709957</td>\n",
       "      <td>0.715235</td>\n",
       "    </tr>\n",
       "    <tr>\n",
       "      <th>5</th>\n",
       "      <td>KNeighborsClassifier</td>\n",
       "      <td>0.670996</td>\n",
       "      <td>0.670996</td>\n",
       "      <td>0.670996</td>\n",
       "      <td>0.670996</td>\n",
       "    </tr>\n",
       "    <tr>\n",
       "      <th>6</th>\n",
       "      <td>MultinomialNB</td>\n",
       "      <td>0.584416</td>\n",
       "      <td>0.589304</td>\n",
       "      <td>0.584416</td>\n",
       "      <td>0.586695</td>\n",
       "    </tr>\n",
       "    <tr>\n",
       "      <th>7</th>\n",
       "      <td>BernoulliNB</td>\n",
       "      <td>0.653680</td>\n",
       "      <td>0.427297</td>\n",
       "      <td>0.653680</td>\n",
       "      <td>0.516783</td>\n",
       "    </tr>\n",
       "  </tbody>\n",
       "</table>\n",
       "</div>"
      ],
      "text/plain": [
       "                        Model  Accuracy  Precision    Recall        F1\n",
       "0      RandomForestClassifier  0.761905   0.765838  0.761905  0.763508\n",
       "1          AdaBoostClassifier  0.757576   0.753929  0.757576  0.755214\n",
       "2          LogisticRegression  0.735931   0.732429  0.735931  0.733822\n",
       "3  GradientBoostingClassifier  0.727273   0.733571  0.727273  0.729753\n",
       "4      DecisionTreeClassifier  0.709957   0.728092  0.709957  0.715235\n",
       "5        KNeighborsClassifier  0.670996   0.670996  0.670996  0.670996\n",
       "6               MultinomialNB  0.584416   0.589304  0.584416  0.586695\n",
       "7                 BernoulliNB  0.653680   0.427297  0.653680  0.516783"
      ]
     },
     "execution_count": 23,
     "metadata": {},
     "output_type": "execute_result"
    }
   ],
   "source": [
    "classification_models(X, y)"
   ]
  },
  {
   "cell_type": "markdown",
   "id": "e9cc209d",
   "metadata": {
    "papermill": {
     "duration": 0.018369,
     "end_time": "2024-11-17T19:13:22.633090",
     "exception": false,
     "start_time": "2024-11-17T19:13:22.614721",
     "status": "completed"
    },
    "tags": []
   },
   "source": [
    "## Model Seçimi"
   ]
  },
  {
   "cell_type": "code",
   "execution_count": 24,
   "id": "92f8ed8f",
   "metadata": {
    "execution": {
     "iopub.execute_input": "2024-11-17T19:13:22.672536Z",
     "iopub.status.busy": "2024-11-17T19:13:22.672075Z",
     "iopub.status.idle": "2024-11-17T19:13:22.678715Z",
     "shell.execute_reply": "2024-11-17T19:13:22.677206Z"
    },
    "papermill": {
     "duration": 0.029712,
     "end_time": "2024-11-17T19:13:22.681603",
     "exception": false,
     "start_time": "2024-11-17T19:13:22.651891",
     "status": "completed"
    },
    "tags": []
   },
   "outputs": [],
   "source": [
    "model = AdaBoostClassifier(n_estimators=100, random_state=42)"
   ]
  },
  {
   "cell_type": "markdown",
   "id": "d5d31fd2",
   "metadata": {
    "papermill": {
     "duration": 0.018368,
     "end_time": "2024-11-17T19:13:22.718751",
     "exception": false,
     "start_time": "2024-11-17T19:13:22.700383",
     "status": "completed"
    },
    "tags": []
   },
   "source": [
    "## 5. Model Eğitme"
   ]
  },
  {
   "cell_type": "code",
   "execution_count": 25,
   "id": "2d98991a",
   "metadata": {
    "execution": {
     "iopub.execute_input": "2024-11-17T19:13:22.758083Z",
     "iopub.status.busy": "2024-11-17T19:13:22.757555Z",
     "iopub.status.idle": "2024-11-17T19:13:23.051040Z",
     "shell.execute_reply": "2024-11-17T19:13:23.049764Z"
    },
    "papermill": {
     "duration": 0.31636,
     "end_time": "2024-11-17T19:13:23.053773",
     "exception": false,
     "start_time": "2024-11-17T19:13:22.737413",
     "status": "completed"
    },
    "tags": []
   },
   "outputs": [
    {
     "data": {
      "text/html": [
       "<style>#sk-container-id-1 {color: black;background-color: white;}#sk-container-id-1 pre{padding: 0;}#sk-container-id-1 div.sk-toggleable {background-color: white;}#sk-container-id-1 label.sk-toggleable__label {cursor: pointer;display: block;width: 100%;margin-bottom: 0;padding: 0.3em;box-sizing: border-box;text-align: center;}#sk-container-id-1 label.sk-toggleable__label-arrow:before {content: \"▸\";float: left;margin-right: 0.25em;color: #696969;}#sk-container-id-1 label.sk-toggleable__label-arrow:hover:before {color: black;}#sk-container-id-1 div.sk-estimator:hover label.sk-toggleable__label-arrow:before {color: black;}#sk-container-id-1 div.sk-toggleable__content {max-height: 0;max-width: 0;overflow: hidden;text-align: left;background-color: #f0f8ff;}#sk-container-id-1 div.sk-toggleable__content pre {margin: 0.2em;color: black;border-radius: 0.25em;background-color: #f0f8ff;}#sk-container-id-1 input.sk-toggleable__control:checked~div.sk-toggleable__content {max-height: 200px;max-width: 100%;overflow: auto;}#sk-container-id-1 input.sk-toggleable__control:checked~label.sk-toggleable__label-arrow:before {content: \"▾\";}#sk-container-id-1 div.sk-estimator input.sk-toggleable__control:checked~label.sk-toggleable__label {background-color: #d4ebff;}#sk-container-id-1 div.sk-label input.sk-toggleable__control:checked~label.sk-toggleable__label {background-color: #d4ebff;}#sk-container-id-1 input.sk-hidden--visually {border: 0;clip: rect(1px 1px 1px 1px);clip: rect(1px, 1px, 1px, 1px);height: 1px;margin: -1px;overflow: hidden;padding: 0;position: absolute;width: 1px;}#sk-container-id-1 div.sk-estimator {font-family: monospace;background-color: #f0f8ff;border: 1px dotted black;border-radius: 0.25em;box-sizing: border-box;margin-bottom: 0.5em;}#sk-container-id-1 div.sk-estimator:hover {background-color: #d4ebff;}#sk-container-id-1 div.sk-parallel-item::after {content: \"\";width: 100%;border-bottom: 1px solid gray;flex-grow: 1;}#sk-container-id-1 div.sk-label:hover label.sk-toggleable__label {background-color: #d4ebff;}#sk-container-id-1 div.sk-serial::before {content: \"\";position: absolute;border-left: 1px solid gray;box-sizing: border-box;top: 0;bottom: 0;left: 50%;z-index: 0;}#sk-container-id-1 div.sk-serial {display: flex;flex-direction: column;align-items: center;background-color: white;padding-right: 0.2em;padding-left: 0.2em;position: relative;}#sk-container-id-1 div.sk-item {position: relative;z-index: 1;}#sk-container-id-1 div.sk-parallel {display: flex;align-items: stretch;justify-content: center;background-color: white;position: relative;}#sk-container-id-1 div.sk-item::before, #sk-container-id-1 div.sk-parallel-item::before {content: \"\";position: absolute;border-left: 1px solid gray;box-sizing: border-box;top: 0;bottom: 0;left: 50%;z-index: -1;}#sk-container-id-1 div.sk-parallel-item {display: flex;flex-direction: column;z-index: 1;position: relative;background-color: white;}#sk-container-id-1 div.sk-parallel-item:first-child::after {align-self: flex-end;width: 50%;}#sk-container-id-1 div.sk-parallel-item:last-child::after {align-self: flex-start;width: 50%;}#sk-container-id-1 div.sk-parallel-item:only-child::after {width: 0;}#sk-container-id-1 div.sk-dashed-wrapped {border: 1px dashed gray;margin: 0 0.4em 0.5em 0.4em;box-sizing: border-box;padding-bottom: 0.4em;background-color: white;}#sk-container-id-1 div.sk-label label {font-family: monospace;font-weight: bold;display: inline-block;line-height: 1.2em;}#sk-container-id-1 div.sk-label-container {text-align: center;}#sk-container-id-1 div.sk-container {/* jupyter's `normalize.less` sets `[hidden] { display: none; }` but bootstrap.min.css set `[hidden] { display: none !important; }` so we also need the `!important` here to be able to override the default hidden behavior on the sphinx rendered scikit-learn.org. See: https://github.com/scikit-learn/scikit-learn/issues/21755 */display: inline-block !important;position: relative;}#sk-container-id-1 div.sk-text-repr-fallback {display: none;}</style><div id=\"sk-container-id-1\" class=\"sk-top-container\"><div class=\"sk-text-repr-fallback\"><pre>AdaBoostClassifier(n_estimators=100, random_state=42)</pre><b>In a Jupyter environment, please rerun this cell to show the HTML representation or trust the notebook. <br />On GitHub, the HTML representation is unable to render, please try loading this page with nbviewer.org.</b></div><div class=\"sk-container\" hidden><div class=\"sk-item\"><div class=\"sk-estimator sk-toggleable\"><input class=\"sk-toggleable__control sk-hidden--visually\" id=\"sk-estimator-id-1\" type=\"checkbox\" checked><label for=\"sk-estimator-id-1\" class=\"sk-toggleable__label sk-toggleable__label-arrow\">AdaBoostClassifier</label><div class=\"sk-toggleable__content\"><pre>AdaBoostClassifier(n_estimators=100, random_state=42)</pre></div></div></div></div></div>"
      ],
      "text/plain": [
       "AdaBoostClassifier(n_estimators=100, random_state=42)"
      ]
     },
     "execution_count": 25,
     "metadata": {},
     "output_type": "execute_result"
    }
   ],
   "source": [
    "model.fit(X_train_res, y_train_res)"
   ]
  },
  {
   "cell_type": "markdown",
   "id": "a7105e38",
   "metadata": {
    "papermill": {
     "duration": 0.018797,
     "end_time": "2024-11-17T19:13:23.091799",
     "exception": false,
     "start_time": "2024-11-17T19:13:23.073002",
     "status": "completed"
    },
    "tags": []
   },
   "source": [
    "## 6. Modeli Kaydetme"
   ]
  },
  {
   "cell_type": "code",
   "execution_count": 26,
   "id": "cb2dec74",
   "metadata": {
    "execution": {
     "iopub.execute_input": "2024-11-17T19:13:23.132004Z",
     "iopub.status.busy": "2024-11-17T19:13:23.131512Z",
     "iopub.status.idle": "2024-11-17T19:13:23.136642Z",
     "shell.execute_reply": "2024-11-17T19:13:23.135519Z"
    },
    "papermill": {
     "duration": 0.028209,
     "end_time": "2024-11-17T19:13:23.139032",
     "exception": false,
     "start_time": "2024-11-17T19:13:23.110823",
     "status": "completed"
    },
    "tags": []
   },
   "outputs": [],
   "source": [
    "##modeli .pkl formatında kaydet\n",
    "#with open('model_adi.pkl','wb') as file:\n",
    "    #pickle.dump(model, file)"
   ]
  },
  {
   "cell_type": "code",
   "execution_count": 27,
   "id": "0b8ce08c",
   "metadata": {
    "execution": {
     "iopub.execute_input": "2024-11-17T19:13:23.178627Z",
     "iopub.status.busy": "2024-11-17T19:13:23.178147Z",
     "iopub.status.idle": "2024-11-17T19:13:23.183599Z",
     "shell.execute_reply": "2024-11-17T19:13:23.182392Z"
    },
    "papermill": {
     "duration": 0.028288,
     "end_time": "2024-11-17T19:13:23.186197",
     "exception": false,
     "start_time": "2024-11-17T19:13:23.157909",
     "status": "completed"
    },
    "tags": []
   },
   "outputs": [],
   "source": [
    "#with open('model_adi.pkl', 'rb') as file:\n",
    "#    model = pickle.load(file)\n",
    "#from sklearn.metrics import accuracy_score, classification_report, confusion_matrix\n",
    "\n",
    "# Tahmin yap\n",
    "#y_pred = model.predict(X_test)\n",
    "\n",
    "# Değerlendirme metrikleri\n",
    "#print(\"Accuracy:\", accuracy_score(y_test, y_pred))\n",
    "#print(\"Confusion Matrix:\\n\", confusion_matrix(y_test, y_pred))\n",
    "#print(\"Classification Report:\\n\", classification_report(y_test, y_pred))\n"
   ]
  }
 ],
 "metadata": {
  "kaggle": {
   "accelerator": "none",
   "dataSources": [
    {
     "datasetId": 1956887,
     "sourceId": 3226898,
     "sourceType": "datasetVersion"
    }
   ],
   "dockerImageVersionId": 30786,
   "isGpuEnabled": false,
   "isInternetEnabled": true,
   "language": "python",
   "sourceType": "notebook"
  },
  "kernelspec": {
   "display_name": "Python 3",
   "language": "python",
   "name": "python3"
  },
  "language_info": {
   "codemirror_mode": {
    "name": "ipython",
    "version": 3
   },
   "file_extension": ".py",
   "mimetype": "text/x-python",
   "name": "python",
   "nbconvert_exporter": "python",
   "pygments_lexer": "ipython3",
   "version": "3.10.14"
  },
  "papermill": {
   "default_parameters": {},
   "duration": 12.36881,
   "end_time": "2024-11-17T19:13:23.928559",
   "environment_variables": {},
   "exception": null,
   "input_path": "__notebook__.ipynb",
   "output_path": "__notebook__.ipynb",
   "parameters": {},
   "start_time": "2024-11-17T19:13:11.559749",
   "version": "2.6.0"
  }
 },
 "nbformat": 4,
 "nbformat_minor": 5
}
